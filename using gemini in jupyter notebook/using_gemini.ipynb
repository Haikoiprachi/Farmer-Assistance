{
 "cells": [
  {
   "cell_type": "code",
   "execution_count": null,
   "id": "4259066e-3c90-4d9d-98c9-99ab0ac12bb6",
   "metadata": {},
   "outputs": [],
   "source": [
    "pip install google.genrativeai "
   ]
  },
  {
   "cell_type": "code",
   "execution_count": null,
   "id": "eeb887b3-493d-46f4-93f2-856d44e92ad2",
   "metadata": {},
   "outputs": [
    {
     "name": "stdout",
     "output_type": "stream",
     "text": [
      "That corn shows signs of **corn smut** ( *Ustilago maydis*).\n",
      "\n",
      "**Treatment:** There's no effective treatment once the infection is visible.  Prevention is key:\n",
      "\n",
      "* **Resistant hybrids:** Plant corn varieties bred for smut resistance.\n",
      "* **Crop rotation:** Avoid planting corn in the same field year after year.\n",
      "* **Sanitation:** Remove and destroy infected plants to prevent spore spread.  Do not compost infected material.\n",
      "\n",
      "\n",
      "\n"
     ]
    }
   ],
   "source": [
    "from PIL import Image\n",
    "import io\n",
    "import google.generativeai as genai  # Make sure you've installed and authenticated properly\n",
    "\n",
    "# Load your image\n",
    "image_path = \"cropdisease.jpg\"\n",
    "image = Image.open(image_path)\n",
    "\n",
    "# Convert image to bytes\n",
    "image_bytes = io.BytesIO()\n",
    "image.save(image_bytes, format='JPEG')\n",
    "image_bytes = image_bytes.getvalue()\n",
    "\n",
    "# Authenticate your Gemini API (required)\n",
    "genai.configure(api_key=\"your_api_key\")    ####### ENTER THE API KEY HEREEEEEEEEEE!!!!!!!!!\n",
    "\n",
    "# Get the Gemini Vision model\n",
    "model = genai.GenerativeModel(\"gemini-1.5-flash\")\n",
    "\n",
    "# Run inference\n",
    "response = model.generate_content([\n",
    "    \"What crop disease is shown in this image, and how can I treat it? ###MAKE IT SHORT AND SHOW ME THE USEFUL POINTS ONLY\",\n",
    "    {\"mime_type\": \"image/jpeg\", \"data\": image_bytes}\n",
    "])\n",
    "\n",
    "# Show the result\n",
    "print(response.text)\n"
   ]
  },
  {
   "cell_type": "code",
   "execution_count": null,
   "id": "613b24f5-cf7a-4626-b0aa-6f87de6723b7",
   "metadata": {},
   "outputs": [],
   "source": []
  }
 ],
 "metadata": {
  "kernelspec": {
   "display_name": "Python 3 (ipykernel)",
   "language": "python",
   "name": "python3"
  },
  "language_info": {
   "codemirror_mode": {
    "name": "ipython",
    "version": 3
   },
   "file_extension": ".py",
   "mimetype": "text/x-python",
   "name": "python",
   "nbconvert_exporter": "python",
   "pygments_lexer": "ipython3",
   "version": "3.12.1"
  }
 },
 "nbformat": 4,
 "nbformat_minor": 5
}
